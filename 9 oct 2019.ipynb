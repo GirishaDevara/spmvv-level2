{
 "cells": [
  {
   "cell_type": "markdown",
   "metadata": {},
   "source": [
    "# 9th oct 2019\n",
    "## Data Encryption and decryption"
   ]
  },
  {
   "cell_type": "code",
   "execution_count": 1,
   "metadata": {},
   "outputs": [
    {
     "data": {
      "text/plain": [
       "'cdef'"
      ]
     },
     "execution_count": 1,
     "metadata": {},
     "output_type": "execute_result"
    }
   ],
   "source": [
    "data = 'abcd'\n",
    "encrypteddata = ''\n",
    "\n",
    "for char in data:\n",
    "    encrypteddata += chr(ord(char)+2)\n",
    "encrypteddata"
   ]
  },
  {
   "cell_type": "code",
   "execution_count": 2,
   "metadata": {},
   "outputs": [
    {
     "data": {
      "text/plain": [
       "'abcd'"
      ]
     },
     "execution_count": 2,
     "metadata": {},
     "output_type": "execute_result"
    }
   ],
   "source": [
    "inputdata = encrypteddata\n",
    "originaldata = ''\n",
    "for char in inputdata:\n",
    "    originaldata += chr(ord(char)-2)\n",
    "originaldata"
   ]
  },
  {
   "cell_type": "code",
   "execution_count": 29,
   "metadata": {},
   "outputs": [],
   "source": [
    "# fuction to generate ket to encrypte data\n",
    "def generatekey(keypath):\n",
    "    with open(keypath, 'w') as f:\n",
    "        for i in range(10):\n",
    "            if i < 6:\n",
    "                f.write(str(i)+\" \"+str(i+4)+'\\n')\n",
    "            else: \n",
    "                f.write(str(i)+\" \"+str(i-6)+'\\n')\n",
    "    return\n",
    "keypath = 'DataFiles/key.txt'\n",
    "generatekey(keypath)"
   ]
  },
  {
   "cell_type": "code",
   "execution_count": 35,
   "metadata": {},
   "outputs": [
    {
     "data": {
      "text/plain": [
       "{'0': '4',\n",
       " '1': '5',\n",
       " '2': '6',\n",
       " '3': '7',\n",
       " '4': '8',\n",
       " '5': '9',\n",
       " '6': '0',\n",
       " '7': '1',\n",
       " '8': '2',\n",
       " '9': '3'}"
      ]
     },
     "execution_count": 35,
     "metadata": {},
     "output_type": "execute_result"
    }
   ],
   "source": [
    "def  dictkeyfile(keyfile):\n",
    "    key = {}\n",
    "    with open(keyfile,'r') as f:\n",
    "        for line in f:\n",
    "            line = line.split()\n",
    "            key[line[0]] = line[1]\n",
    "    return key\n",
    "keyfile = 'DataFiles/key.txt'\n",
    "k = dictkeyfile(keyfile)\n",
    "k"
   ]
  },
  {
   "cell_type": "code",
   "execution_count": 34,
   "metadata": {},
   "outputs": [
    {
     "name": "stdout",
     "output_type": "stream",
     "text": [
      "['23', '34', '78', '100', '56']\n",
      "m 23\n",
      "d 2\n",
      "d 3\n",
      "m 34\n",
      "d 3\n",
      "d 4\n",
      "m 78\n",
      "d 7\n",
      "d 8\n",
      "m 100\n",
      "d 1\n",
      "d 0\n",
      "d 0\n",
      "m 56\n",
      "d 5\n",
      "d 6\n"
     ]
    }
   ],
   "source": [
    "# function to encryptdata    \n",
    "def encrytmarksMarksData(datafile,keyfile):\n",
    "    key = dictkeyfile(keyfile) # dictionary\n",
    "    with open(datafile,'r') as f:\n",
    "        filedata = f.read().split('\\n')\n",
    "        print(filedata)\n",
    "    with open('DataFiles/encryptedmarks.txt',\"w\") as f:\n",
    "        for mark in filedata:\n",
    "            print('m',mark)\n",
    "            line = ''\n",
    "            for digit in mark:\n",
    "                print('d',digit)\n",
    "                line += key[digit]\n",
    "            f.write(line+'\\n')\n",
    "        return \n",
    "                \n",
    "datafile = 'DataFiles/marks.txt'\n",
    "keyfile = 'DataFiles/key.txt'\n",
    "encrytmarksMarksData(datafile,keyfile)"
   ]
  },
  {
   "cell_type": "code",
   "execution_count": 41,
   "metadata": {},
   "outputs": [
    {
     "data": {
      "text/plain": [
       "{'0': '4',\n",
       " '1': '5',\n",
       " '2': '6',\n",
       " '3': '7',\n",
       " '4': '8',\n",
       " '5': '9',\n",
       " '6': '0',\n",
       " '7': '1',\n",
       " '8': '2',\n",
       " '9': '3'}"
      ]
     },
     "execution_count": 41,
     "metadata": {},
     "output_type": "execute_result"
    }
   ],
   "source": [
    "k"
   ]
  },
  {
   "cell_type": "code",
   "execution_count": 48,
   "metadata": {},
   "outputs": [],
   "source": [
    "def decryptmarksData(encryptedfile,keyfile):\n",
    "    key = dictkeyfile(keyfile)\n",
    "    newkey = {}\n",
    "    for k,v in key.items():\n",
    "        newkey[v] = k\n",
    "    \n",
    "    with open(encryptedfile,'r') as f:\n",
    "        encrypteddata = f.read().split('\\n')\n",
    "       \n",
    "    with open('DataFiles/originaldata.txt','w') as f:\n",
    "        \n",
    "        for en in encrypteddata:\n",
    "            line = \"\"\n",
    "            for digit in en:\n",
    "                line += newkey[digit]\n",
    "            f.write(line + '\\n')\n",
    "    \n",
    "encryptedfile = 'DataFiles/encryptedmarks.txt'\n",
    "keyfile = 'DataFiles/key.txt'\n",
    "decryptmarksData(encryptedfile,keyfile)"
   ]
  },
  {
   "cell_type": "code",
   "execution_count": null,
   "metadata": {},
   "outputs": [],
   "source": []
  }
 ],
 "metadata": {
  "kernelspec": {
   "display_name": "Python 3",
   "language": "python",
   "name": "python3"
  },
  "language_info": {
   "codemirror_mode": {
    "name": "ipython",
    "version": 3
   },
   "file_extension": ".py",
   "mimetype": "text/x-python",
   "name": "python",
   "nbconvert_exporter": "python",
   "pygments_lexer": "ipython3",
   "version": "3.7.3"
  }
 },
 "nbformat": 4,
 "nbformat_minor": 2
}
