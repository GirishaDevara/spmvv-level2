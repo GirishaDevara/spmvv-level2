{
 "cells": [
  {
   "cell_type": "markdown",
   "metadata": {},
   "source": [
    "# Date : 19-09-2019\n",
    "\n",
    "## Strings\n",
    "  * intruduction \n",
    "  * Stirng Indexing\n",
    "        - Positive indexing \n",
    "        - Negative Indexing\n",
    "  * String slicing\n",
    "        - Slicing Strings with stride\n",
    "\n",
    "### Intro to strings"
   ]
  },
  {
   "cell_type": "code",
   "execution_count": null,
   "metadata": {},
   "outputs": [],
   "source": [
    "name = \"gireesha\"\n",
    "type(name)"
   ]
  },
  {
   "cell_type": "code",
   "execution_count": null,
   "metadata": {},
   "outputs": [],
   "source": [
    "s = \"\"\n",
    "type(s),print(s),s"
   ]
  },
  {
   "cell_type": "markdown",
   "metadata": {},
   "source": [
    "### Stirng Indexing\n",
    "\n",
    "* Positive Indexing \n",
    "\n",
    "   ` g i r e e s h a`\n",
    "   \n",
    "   ` 0 1 2 3 4 5 6 7`\n",
    "   \n",
    "   \n",
    "* Negative Indexing\n",
    "\n",
    "   ` g  i  r  e  e  s  h  a`\n",
    "    \n",
    "  `-8 -7 -6 -5 -4 -3 -2 -1`\n",
    "   "
   ]
  },
  {
   "cell_type": "code",
   "execution_count": null,
   "metadata": {},
   "outputs": [],
   "source": [
    "name"
   ]
  },
  {
   "cell_type": "code",
   "execution_count": null,
   "metadata": {},
   "outputs": [],
   "source": [
    "print(name[-3])\n",
    "print(name[3])\n",
    "print(len(name)-1)\n",
    "print(name[len(name)-1])\n",
    "print(name[-9]) #IndexError: means we need to check for errors\n",
    "print(name[8])"
   ]
  },
  {
   "cell_type": "markdown",
   "metadata": {},
   "source": [
    "### String Slicing"
   ]
  },
  {
   "cell_type": "code",
   "execution_count": null,
   "metadata": {},
   "outputs": [],
   "source": [
    "name = 'girisha devara'\n",
    "name"
   ]
  },
  {
   "cell_type": "code",
   "execution_count": null,
   "metadata": {},
   "outputs": [],
   "source": [
    "name[0:7] #1st value is inclusive range and 2nd value is exclusive"
   ]
  },
  {
   "cell_type": "code",
   "execution_count": null,
   "metadata": {},
   "outputs": [],
   "source": [
    "print(name[8:])\n",
    "print(name[8:len(name)])"
   ]
  },
  {
   "cell_type": "code",
   "execution_count": null,
   "metadata": {},
   "outputs": [],
   "source": [
    "print(name[:8]) #the index number after the colon, which refers to the end of the substring.\n",
    "print(name[8:]) #the index number before the colon, which refers to the starting of the substring."
   ]
  },
  {
   "cell_type": "code",
   "execution_count": null,
   "metadata": {},
   "outputs": [],
   "source": [
    "print(name[0::2])\n",
    "print(name[::-1])"
   ]
  },
  {
   "cell_type": "code",
   "execution_count": null,
   "metadata": {
    "scrolled": true
   },
   "outputs": [],
   "source": [
    "print('girisha'[::3][::-1])\n",
    "print('girisha'[::2][::1])"
   ]
  },
  {
   "cell_type": "code",
   "execution_count": null,
   "metadata": {},
   "outputs": [],
   "source": [
    "name[0]=\"A\""
   ]
  },
  {
   "cell_type": "code",
   "execution_count": null,
   "metadata": {},
   "outputs": [],
   "source": [
    "n = \"k\"\n",
    "del n\n",
    "n"
   ]
  },
  {
   "cell_type": "markdown",
   "metadata": {},
   "source": []
  },
  {
   "cell_type": "markdown",
   "metadata": {},
   "source": [
    "## Functions on Strings"
   ]
  },
  {
   "cell_type": "code",
   "execution_count": null,
   "metadata": {},
   "outputs": [],
   "source": [
    "print(chr(97))\n",
    "print(ord('a'))\n",
    "dir(\"\")"
   ]
  },
  {
   "cell_type": "code",
   "execution_count": null,
   "metadata": {
    "scrolled": true
   },
   "outputs": [],
   "source": [
    "print(\"+\".join(\"girisha\"))\n",
    "help(\"\".splitlines)"
   ]
  },
  {
   "cell_type": "code",
   "execution_count": null,
   "metadata": {},
   "outputs": [],
   "source": [
    "lines = \"\"\" line 1\n",
    "line 2\n",
    "line 3\"\"\""
   ]
  },
  {
   "cell_type": "code",
   "execution_count": null,
   "metadata": {
    "scrolled": true
   },
   "outputs": [],
   "source": [
    "\"a\".zfill(9)\n",
    "lines.splitlines()"
   ]
  },
  {
   "cell_type": "code",
   "execution_count": null,
   "metadata": {},
   "outputs": [],
   "source": [
    "\"python is python, python is good\".count('python')"
   ]
  },
  {
   "cell_type": "code",
   "execution_count": null,
   "metadata": {},
   "outputs": [],
   "source": []
  },
  {
   "cell_type": "code",
   "execution_count": null,
   "metadata": {},
   "outputs": [],
   "source": [
    "a=(\"alekhya\",\"giri\")\n",
    "i=1\n",
    "for items in a:\n",
    "    print(i,\".\",items)\n",
    "    i+=1"
   ]
  },
  {
   "cell_type": "code",
   "execution_count": null,
   "metadata": {},
   "outputs": [],
   "source": [
    "a=(\"alekhya\")\n",
    "a[::-1]"
   ]
  },
  {
   "cell_type": "code",
   "execution_count": null,
   "metadata": {},
   "outputs": [],
   "source": [
    "a=\"abcdadce\"\n",
    "len(set(a))"
   ]
  },
  {
   "cell_type": "code",
   "execution_count": 27,
   "metadata": {},
   "outputs": [
    {
     "data": {
      "text/plain": [
       "('good', 'sad', 'apssdc')"
      ]
     },
     "execution_count": 27,
     "metadata": {},
     "output_type": "execute_result"
    }
   ],
   "source": [
    "t = ('apssdc','sad','good')\n",
    "t[::-1]"
   ]
  },
  {
   "cell_type": "code",
   "execution_count": 30,
   "metadata": {},
   "outputs": [
    {
     "data": {
      "text/plain": [
       "'apssdc'"
      ]
     },
     "execution_count": 30,
     "metadata": {},
     "output_type": "execute_result"
    }
   ],
   "source": [
    "t2 = (\"apssdc\")\n",
    "t2"
   ]
  },
  {
   "cell_type": "code",
   "execution_count": 32,
   "metadata": {},
   "outputs": [
    {
     "data": {
      "text/plain": [
       "('cdsspa', str)"
      ]
     },
     "execution_count": 32,
     "metadata": {},
     "output_type": "execute_result"
    }
   ],
   "source": [
    "t2[::-1], type(t2)\n"
   ]
  },
  {
   "cell_type": "code",
   "execution_count": 38,
   "metadata": {},
   "outputs": [
    {
     "name": "stdout",
     "output_type": "stream",
     "text": [
      "('a', 'p', 's', 's', 'd', 'c')\n",
      "cdsspa"
     ]
    }
   ],
   "source": [
    "t3= tuple(\"apssdc\")\n",
    "print(t3)\n",
    "for element in t3[::-1]:\n",
    "    print(element,sep = \"\",end = \"\")"
   ]
  },
  {
   "cell_type": "code",
   "execution_count": 42,
   "metadata": {},
   "outputs": [
    {
     "name": "stdout",
     "output_type": "stream",
     "text": [
      "('a', 'p', 's', 's', 'd', 'c')\n"
     ]
    },
    {
     "data": {
      "text/plain": [
       "'cdsspa'"
      ]
     },
     "execution_count": 42,
     "metadata": {},
     "output_type": "execute_result"
    }
   ],
   "source": [
    "t4 = tuple('apssdc')\n",
    "print(t4)\n",
    "\"\".join(t4[::-1])"
   ]
  },
  {
   "cell_type": "markdown",
   "metadata": {},
   "source": [
    "# Date   : 23 sep 2019\n",
    "## python dictionaries\n",
    "\n"
   ]
  },
  {
   "cell_type": "code",
   "execution_count": 2,
   "metadata": {},
   "outputs": [],
   "source": [
    "details = {'name':\"sushma\",\"edcation\":\"B-tech\",\"age\":20}"
   ]
  },
  {
   "cell_type": "code",
   "execution_count": 3,
   "metadata": {},
   "outputs": [
    {
     "data": {
      "text/plain": [
       "'sushma'"
      ]
     },
     "execution_count": 3,
     "metadata": {},
     "output_type": "execute_result"
    }
   ],
   "source": [
    "details['name']"
   ]
  },
  {
   "cell_type": "code",
   "execution_count": 4,
   "metadata": {},
   "outputs": [
    {
     "data": {
      "text/plain": [
       "['__class__',\n",
       " '__contains__',\n",
       " '__delattr__',\n",
       " '__delitem__',\n",
       " '__dir__',\n",
       " '__doc__',\n",
       " '__eq__',\n",
       " '__format__',\n",
       " '__ge__',\n",
       " '__getattribute__',\n",
       " '__getitem__',\n",
       " '__gt__',\n",
       " '__hash__',\n",
       " '__init__',\n",
       " '__init_subclass__',\n",
       " '__iter__',\n",
       " '__le__',\n",
       " '__len__',\n",
       " '__lt__',\n",
       " '__ne__',\n",
       " '__new__',\n",
       " '__reduce__',\n",
       " '__reduce_ex__',\n",
       " '__repr__',\n",
       " '__setattr__',\n",
       " '__setitem__',\n",
       " '__sizeof__',\n",
       " '__str__',\n",
       " '__subclasshook__',\n",
       " 'clear',\n",
       " 'copy',\n",
       " 'fromkeys',\n",
       " 'get',\n",
       " 'items',\n",
       " 'keys',\n",
       " 'pop',\n",
       " 'popitem',\n",
       " 'setdefault',\n",
       " 'update',\n",
       " 'values']"
      ]
     },
     "execution_count": 4,
     "metadata": {},
     "output_type": "execute_result"
    }
   ],
   "source": [
    "dir({})"
   ]
  },
  {
   "cell_type": "code",
   "execution_count": 5,
   "metadata": {},
   "outputs": [
    {
     "data": {
      "text/plain": [
       "{'name': 'sushma', 'edcation': 'B-tech', 'age': 20}"
      ]
     },
     "execution_count": 5,
     "metadata": {},
     "output_type": "execute_result"
    }
   ],
   "source": [
    "details"
   ]
  },
  {
   "cell_type": "markdown",
   "metadata": {},
   "source": [
    "#### Updating the Dictionay Elements"
   ]
  },
  {
   "cell_type": "code",
   "execution_count": 6,
   "metadata": {},
   "outputs": [],
   "source": [
    "details['gender'] = \"female\""
   ]
  },
  {
   "cell_type": "code",
   "execution_count": 7,
   "metadata": {},
   "outputs": [
    {
     "data": {
      "text/plain": [
       "{'name': 'sushma', 'edcation': 'B-tech', 'age': 20, 'gender': 'female'}"
      ]
     },
     "execution_count": 7,
     "metadata": {},
     "output_type": "execute_result"
    }
   ],
   "source": [
    "details"
   ]
  },
  {
   "cell_type": "code",
   "execution_count": null,
   "metadata": {},
   "outputs": [],
   "source": [
    "details[9] = 23"
   ]
  },
  {
   "cell_type": "markdown",
   "metadata": {},
   "source": [
    "### Deleting the elements"
   ]
  },
  {
   "cell_type": "code",
   "execution_count": null,
   "metadata": {},
   "outputs": [],
   "source": [
    "details.pop(9)"
   ]
  },
  {
   "cell_type": "code",
   "execution_count": null,
   "metadata": {},
   "outputs": [],
   "source": [
    "details"
   ]
  },
  {
   "cell_type": "code",
   "execution_count": null,
   "metadata": {},
   "outputs": [],
   "source": [
    "del details[\"age\"]"
   ]
  },
  {
   "cell_type": "code",
   "execution_count": null,
   "metadata": {},
   "outputs": [],
   "source": [
    "details"
   ]
  },
  {
   "cell_type": "markdown",
   "metadata": {},
   "source": [
    "### using Length function"
   ]
  },
  {
   "cell_type": "code",
   "execution_count": null,
   "metadata": {},
   "outputs": [],
   "source": [
    "len(details)"
   ]
  },
  {
   "cell_type": "markdown",
   "metadata": {},
   "source": [
    "# Date 24 sep 2019\n",
    "# sets and Tuples"
   ]
  },
  {
   "cell_type": "markdown",
   "metadata": {},
   "source": [
    "tuple is a immutable data type\n",
    "\n",
    "it is represeted by (peranthesis)\n"
   ]
  },
  {
   "cell_type": "code",
   "execution_count": 8,
   "metadata": {},
   "outputs": [
    {
     "data": {
      "text/plain": [
       "140710963221664"
      ]
     },
     "execution_count": 8,
     "metadata": {},
     "output_type": "execute_result"
    }
   ],
   "source": [
    "id(12)"
   ]
  },
  {
   "cell_type": "code",
   "execution_count": 11,
   "metadata": {},
   "outputs": [
    {
     "data": {
      "text/plain": [
       "('a', 1, 3.4)"
      ]
     },
     "execution_count": 11,
     "metadata": {},
     "output_type": "execute_result"
    }
   ],
   "source": [
    "tp = (\"a\",1,3.4) # it can store different type data\n",
    "tp"
   ]
  },
  {
   "cell_type": "code",
   "execution_count": 12,
   "metadata": {},
   "outputs": [
    {
     "ename": "TypeError",
     "evalue": "'tuple' object does not support item assignment",
     "output_type": "error",
     "traceback": [
      "\u001b[1;31m---------------------------------------------------------------------------\u001b[0m",
      "\u001b[1;31mTypeError\u001b[0m                                 Traceback (most recent call last)",
      "\u001b[1;32m<ipython-input-12-2f1f7aaa866f>\u001b[0m in \u001b[0;36m<module>\u001b[1;34m\u001b[0m\n\u001b[1;32m----> 1\u001b[1;33m \u001b[0mtp\u001b[0m\u001b[1;33m[\u001b[0m\u001b[1;36m0\u001b[0m\u001b[1;33m]\u001b[0m \u001b[1;33m=\u001b[0m \u001b[1;36m3\u001b[0m\u001b[1;33m\u001b[0m\u001b[1;33m\u001b[0m\u001b[0m\n\u001b[0m",
      "\u001b[1;31mTypeError\u001b[0m: 'tuple' object does not support item assignment"
     ]
    }
   ],
   "source": [
    "tp[0] = 3"
   ]
  },
  {
   "cell_type": "code",
   "execution_count": 13,
   "metadata": {},
   "outputs": [],
   "source": [
    "l = [1,23,4,'e',2.4]"
   ]
  },
  {
   "cell_type": "code",
   "execution_count": 14,
   "metadata": {},
   "outputs": [
    {
     "data": {
      "text/plain": [
       "[36, 23, 4, 'e', 2.4]"
      ]
     },
     "execution_count": 14,
     "metadata": {},
     "output_type": "execute_result"
    }
   ],
   "source": [
    "l[0] = 36\n",
    "l"
   ]
  },
  {
   "cell_type": "markdown",
   "metadata": {},
   "source": [
    "### Tuple  indexing"
   ]
  },
  {
   "cell_type": "code",
   "execution_count": 15,
   "metadata": {},
   "outputs": [
    {
     "data": {
      "text/plain": [
       "('a', 1, 3.4)"
      ]
     },
     "execution_count": 15,
     "metadata": {},
     "output_type": "execute_result"
    }
   ],
   "source": [
    "tp"
   ]
  },
  {
   "cell_type": "code",
   "execution_count": 16,
   "metadata": {},
   "outputs": [
    {
     "data": {
      "text/plain": [
       "3.4"
      ]
     },
     "execution_count": 16,
     "metadata": {},
     "output_type": "execute_result"
    }
   ],
   "source": [
    "tp[-1]"
   ]
  },
  {
   "cell_type": "code",
   "execution_count": 16,
   "metadata": {},
   "outputs": [
    {
     "ename": "IndexError",
     "evalue": "tuple index out of range",
     "output_type": "error",
     "traceback": [
      "\u001b[1;31m---------------------------------------------------------------------------\u001b[0m",
      "\u001b[1;31mIndexError\u001b[0m                                Traceback (most recent call last)",
      "\u001b[1;32m<ipython-input-16-3647d00332c6>\u001b[0m in \u001b[0;36m<module>\u001b[1;34m\u001b[0m\n\u001b[1;32m----> 1\u001b[1;33m \u001b[0mtp\u001b[0m\u001b[1;33m[\u001b[0m\u001b[1;36m9\u001b[0m\u001b[1;33m]\u001b[0m\u001b[1;33m\u001b[0m\u001b[1;33m\u001b[0m\u001b[0m\n\u001b[0m",
      "\u001b[1;31mIndexError\u001b[0m: tuple index out of range"
     ]
    }
   ],
   "source": [
    "tp[9]"
   ]
  },
  {
   "cell_type": "markdown",
   "metadata": {},
   "source": [
    "### Tuple Slicing"
   ]
  },
  {
   "cell_type": "code",
   "execution_count": 17,
   "metadata": {},
   "outputs": [
    {
     "data": {
      "text/plain": [
       "(3.4, 1, 'a')"
      ]
     },
     "execution_count": 17,
     "metadata": {},
     "output_type": "execute_result"
    }
   ],
   "source": [
    "tp[::-1]"
   ]
  },
  {
   "cell_type": "code",
   "execution_count": 18,
   "metadata": {},
   "outputs": [
    {
     "data": {
      "text/plain": [
       "(1, 3.4)"
      ]
     },
     "execution_count": 18,
     "metadata": {},
     "output_type": "execute_result"
    }
   ],
   "source": [
    "tp[1:3]"
   ]
  },
  {
   "cell_type": "markdown",
   "metadata": {},
   "source": [
    "## Tuple Methods\n",
    "Count\n",
    "\n",
    "Index"
   ]
  },
  {
   "cell_type": "code",
   "execution_count": 19,
   "metadata": {},
   "outputs": [
    {
     "data": {
      "text/plain": [
       "['__add__',\n",
       " '__class__',\n",
       " '__contains__',\n",
       " '__delattr__',\n",
       " '__dir__',\n",
       " '__doc__',\n",
       " '__eq__',\n",
       " '__format__',\n",
       " '__ge__',\n",
       " '__getattribute__',\n",
       " '__getitem__',\n",
       " '__getnewargs__',\n",
       " '__gt__',\n",
       " '__hash__',\n",
       " '__init__',\n",
       " '__init_subclass__',\n",
       " '__iter__',\n",
       " '__le__',\n",
       " '__len__',\n",
       " '__lt__',\n",
       " '__mul__',\n",
       " '__ne__',\n",
       " '__new__',\n",
       " '__reduce__',\n",
       " '__reduce_ex__',\n",
       " '__repr__',\n",
       " '__rmul__',\n",
       " '__setattr__',\n",
       " '__sizeof__',\n",
       " '__str__',\n",
       " '__subclasshook__',\n",
       " 'count',\n",
       " 'index']"
      ]
     },
     "execution_count": 19,
     "metadata": {},
     "output_type": "execute_result"
    }
   ],
   "source": [
    "dir(())"
   ]
  },
  {
   "cell_type": "code",
   "execution_count": 19,
   "metadata": {},
   "outputs": [
    {
     "data": {
      "text/plain": [
       "1"
      ]
     },
     "execution_count": 19,
     "metadata": {},
     "output_type": "execute_result"
    }
   ],
   "source": [
    "tp.count(3.4)"
   ]
  },
  {
   "cell_type": "code",
   "execution_count": 23,
   "metadata": {},
   "outputs": [
    {
     "data": {
      "text/plain": [
       "1"
      ]
     },
     "execution_count": 23,
     "metadata": {},
     "output_type": "execute_result"
    }
   ],
   "source": [
    "tp.index(1)"
   ]
  },
  {
   "cell_type": "markdown",
   "metadata": {},
   "source": [
    "# Sets"
   ]
  },
  {
   "cell_type": "markdown",
   "metadata": {},
   "source": [
    "# Data encription and deCription "
   ]
  },
  {
   "cell_type": "code",
   "execution_count": null,
   "metadata": {},
   "outputs": [],
   "source": [
    "keypath ='key.txt'\n",
    "def generatekey(keypath):\n",
    "    with open(keypath,'w') as f:\n",
    "        for i in range(10):\n",
    "            if i < 6:\n",
    "                f.write(str(i)+ ' '+str(i+4)+'\\n')\n",
    "            else:\n",
    "                f.write(str(i)+ ' '+str(i-6)+'\\n')\n",
    "    return\n",
    "generatekey(keypath)"
   ]
  },
  {
   "cell_type": "code",
   "execution_count": null,
   "metadata": {},
   "outputs": [],
   "source": [
    "keyfile = 'key.txt'\n",
    "def dictionaryKeyFile(keyfile):\n",
    "    key = {}\n",
    "    with open(keyfile, 'r') as f:\n",
    "        for line in f:\n",
    "            line = line.split()\n",
    "            key[line[0]] = line[1]\n",
    "    return key\n",
    "def encryptMarksData(datafile, keyfile):\n",
    "    #construct a dictionary for  key data\n",
    "    key = dictionaryKeyFile(keyfile)\n",
    "    print(key)\n",
    "    with open(datafile, 'r') as f:\n",
    "        filedata = f.read().split('\\n')\n",
    "        print(filedata)\n",
    "    with open('encryptedMarks.txt', 'w') as f:\n",
    "        for mark in filedata:\n",
    "            line = ''\n",
    "            for n in mark:\n",
    "                line += key[n]\n",
    "            f.write(line+'\\n')\n",
    "    return\n",
    "datafile = 'marks.txt'\n",
    "encryptMarksData(datafile, keyfile)"
   ]
  },
  {
   "cell_type": "code",
   "execution_count": null,
   "metadata": {},
   "outputs": [],
   "source": [
    "def decryptMarksData(encryptedfile, keyfile):\n",
    "    key = dictionaryKeyFile(keyfile)\n",
    "    newkey = {}\n",
    "    for key, value in key.items():\n",
    "        newkey[value] = key\n",
    "    print(newkey)\n",
    "    with open(encryptedfile, 'r') as f:\n",
    "        encrypteddata = f.read().split('\\n')\n",
    "    with open('decryptedMarks.txt', 'w') as f:\n",
    "        for encryptedmark in encrypteddata:\n",
    "            line = ''\n",
    "            for n in encryptedmark:\n",
    "                line += newkey[n]\n",
    "            f.write(line + '\\n')\n",
    "    return\n",
    "encryptedfile = 'encryptedMarks.txt'\n",
    "keyfile = 'key.txt'\n",
    "decryptMarksData(encryptedfile, keyfile)"
   ]
  },
  {
   "cell_type": "markdown",
   "metadata": {},
   "source": [
    "# Modules and packeges\n",
    "one single file is called a module"
   ]
  },
  {
   "cell_type": "code",
   "execution_count": 2,
   "metadata": {},
   "outputs": [
    {
     "name": "stdout",
     "output_type": "stream",
     "text": [
      "\n",
      "Help on NoneType object:\n",
      "\n",
      "class NoneType(object)\n",
      " |  Methods defined here:\n",
      " |  \n",
      " |  __bool__(self, /)\n",
      " |      self != 0\n",
      " |  \n",
      " |  __repr__(self, /)\n",
      " |      Return repr(self).\n",
      " |  \n",
      " |  ----------------------------------------------------------------------\n",
      " |  Static methods defined here:\n",
      " |  \n",
      " |  __new__(*args, **kwargs) from builtins.type\n",
      " |      Create and return a new object.  See help(type) for accurate signature.\n",
      "\n"
     ]
    }
   ],
   "source": [
    "help(print())"
   ]
  },
  {
   "cell_type": "code",
   "execution_count": 7,
   "metadata": {},
   "outputs": [
    {
     "name": "stdout",
     "output_type": "stream",
     "text": [
      "\n",
      "Please wait a moment while I gather a list of all available modules...\n",
      "\n"
     ]
    },
    {
     "name": "stderr",
     "output_type": "stream",
     "text": [
      "C:\\ProgramData\\Anaconda3\\lib\\site-packages\\IPython\\kernel\\__init__.py:13: ShimWarning: The `IPython.kernel` package has been deprecated since IPython 4.0.You should import from ipykernel or jupyter_client instead.\n",
      "  \"You should import from ipykernel or jupyter_client instead.\", ShimWarning)\n",
      "WARNING: AstropyDeprecationWarning: astropy.utils.compat.futures is now deprecated - use concurrent.futures instead [astropy.utils.compat.futures]\n",
      "WARNING: The conda.compat module is deprecated and will be removed in a future release.\n",
      "C:\\ProgramData\\Anaconda3\\lib\\site-packages\\distributed\\config.py:20: YAMLLoadWarning: calling yaml.load() without Loader=... is deprecated, as the default Loader is unsafe. Please read https://msg.pyyaml.org/load for full details.\n",
      "  defaults = yaml.load(f)\n",
      "C:\\ProgramData\\Anaconda3\\lib\\site-packages\\nltk\\twitter\\__init__.py:22: UserWarning: The twython library has not been installed. Some functionality from the twitter package will not be available.\n",
      "  \"The twython library has not been installed. \"\n",
      "C:\\ProgramData\\Anaconda3\\lib\\site-packages\\skimage\\novice\\__init__.py:103: UserWarning: The `skimage.novice` module was deprecated in version 0.14. It will be removed in 0.16.\n",
      "  warnings.warn(\"The `skimage.novice` module was deprecated in version 0.14. \"\n",
      "C:\\ProgramData\\Anaconda3\\lib\\site-packages\\skimage\\viewer\\utils\\core.py:10: UserWarning: Recommended matplotlib backend is `Agg` for full skimage.viewer functionality.\n",
      "  warn(\"Recommended matplotlib backend is `Agg` for full \"\n",
      "C:\\ProgramData\\Anaconda3\\lib\\site-packages\\sphinx\\websupport\\__init__.py:25: RemovedInSphinx20Warning: sphinx.websupport module is now provided as sphinxcontrib-websupport. sphinx.websupport will be removed at Sphinx-2.0. Please use the package instead.\n",
      "  RemovedInSphinx20Warning)\n",
      "C:\\ProgramData\\Anaconda3\\lib\\site-packages\\qtawesome\\iconic_font.py:276: UserWarning: You need to have a running QApplication to use QtAwesome!\n",
      "  warnings.warn(\"You need to have a running \"\n",
      "C:\\ProgramData\\Anaconda3\\lib\\pkgutil.py:107: VisibleDeprecationWarning: zmq.eventloop.minitornado is deprecated in pyzmq 14.0 and will be removed.\n",
      "    Install tornado itself to use zmq with the tornado IOLoop.\n",
      "    \n",
      "  yield from walk_packages(path, info.name+'.', onerror)\n"
     ]
    },
    {
     "name": "stdout",
     "output_type": "stream",
     "text": [
      "Crypto              builtins            mkl                 sphinx\n",
      "Cython              bz2                 mkl_fft             sphinxcontrib\n",
      "IPython             cProfile            mkl_random          spyder\n",
      "OpenSSL             calendar            mmap                spyder_breakpoints\n",
      "PIL                 certifi             mmapfile            spyder_io_dcm\n",
      "PyQt5               cffi                mmsystem            spyder_io_hdf5\n",
      "__future__          cgi                 modulefinder        spyder_kernels\n",
      "_abc                cgitb               more_itertools      spyder_profiler\n",
      "_ast                chardet             mpmath              spyder_pylint\n",
      "_asyncio            chunk               msgpack             sqlalchemy\n",
      "_bisect             click               msilib              sqlite3\n",
      "_blake2             cloudpickle         msvcrt              sre_compile\n",
      "_bootlocale         clyent              multipledispatch    sre_constants\n",
      "_bz2                cmath               multiprocessing     sre_parse\n",
      "_cffi_backend       cmd                 navigator_updater   ssl\n",
      "_codecs             code                nbconvert           sspi\n",
      "_codecs_cn          codecs              nbformat            sspicon\n",
      "_codecs_hk          codeop              netbios             stat\n",
      "_codecs_iso2022     collections         netrc               statistics\n",
      "_codecs_jp          colorama            networkx            statsmodels\n",
      "_codecs_kr          colorsys            nltk                storemagic\n",
      "_codecs_tw          commctrl            nntplib             string\n",
      "_collections        compileall          nose                stringprep\n",
      "_collections_abc    comtypes            notebook            struct\n",
      "_compat_pickle      concurrent          nt                  subprocess\n",
      "_compression        conda               ntpath              sunau\n",
      "_contextvars        conda_build         ntsecuritycon       symbol\n",
      "_csv                conda_env           nturl2path          sympy\n",
      "_ctypes             conda_verify        numba               sympyprinting\n",
      "_ctypes_test        configparser        numbers             symtable\n",
      "_datetime           contextlib          numexpr             sys\n",
      "_decimal            contextlib2         numpy               sysconfig\n",
      "_dummy_thread       contextvars         numpydoc            tables\n",
      "_elementtree        copy                odbc                tabnanny\n",
      "_functools          copyreg             olefile             tarfile\n",
      "_hashlib            crypt               opcode              tblib\n",
      "_heapq              cryptography        openpyxl            telnetlib\n",
      "_imp                csv                 operator            tempfile\n",
      "_io                 ctypes              optparse            terminado\n",
      "_json               curl                os                  test\n",
      "_locale             curses              packaging           test_data\n",
      "_lsprof             cwp                 pandas              test_path\n",
      "_lzma               cycler              pandocfilters       test_pycosat\n",
      "_markupbase         cython              parser              testpath\n",
      "_md5                cythonmagic         parso               tests\n",
      "_msi                cytoolz             partd               textwrap\n",
      "_multibytecodec     dask                past                this\n",
      "_multiprocessing    dataclasses         path                threading\n",
      "_nsis               datetime            pathlib             time\n",
      "_opcode             dateutil            pathlib2            timeit\n",
      "_operator           dbi                 patsy               timer\n",
      "_osx_support        dbm                 pdb                 tkinter\n",
      "_overlapped         dde                 pep8                tlz\n",
      "_pickle             decimal             perfmon             token\n",
      "_py_abc             decorator           pickle              tokenize\n",
      "_pydecimal          defusedxml          pickleshare         toolz\n",
      "_pyio               difflib             pickletools         tornado\n",
      "_pylief             dis                 pip                 tqdm\n",
      "_pyrsistent_version distributed         pipes               trace\n",
      "_pytest             distutils           pkg_resources       traceback\n",
      "_queue              doctest             pkginfo             tracemalloc\n",
      "_random             docutils            pkgutil             traitlets\n",
      "_sha1               dummy_threading     platform            tty\n",
      "_sha256             easy_install        plistlib            turtle\n",
      "_sha3               email               pluggy              turtledemo\n",
      "_sha512             encodings           ply                 types\n",
      "_signal             ensurepip           poplib              typing\n",
      "_sitebuiltins       entrypoints         posixpath           unicodecsv\n",
      "_socket             enum                pprint              unicodedata\n",
      "_sqlite3            errno               profile             unittest\n",
      "_sre                et_xmlfile          prometheus_client   urllib\n",
      "_ssl                fastcache           prompt_toolkit      urllib3\n",
      "_stat               faulthandler        pstats              uu\n",
      "_string             filecmp             psutil              uuid\n",
      "_strptime           fileinput           pty                 venv\n",
      "_struct             filelock            pvectorc            warnings\n",
      "_symtable           flask               py                  wave\n",
      "_system_path        fnmatch             py_compile          wcwidth\n",
      "_testbuffer         formatter           pyclbr              weakref\n",
      "_testcapi           fractions           pycodestyle         webbrowser\n",
      "_testconsole        ftplib              pycosat             webencodings\n",
      "_testimportmultiple functools           pycparser           werkzeug\n",
      "_testmultiphase     future              pycurl              wheel\n",
      "_thread             gc                  pydoc               widgetsnbextension\n",
      "_threading_local    genericpath         pydoc_data          win2kras\n",
      "_tkinter            getopt              pyexpat             win32api\n",
      "_tracemalloc        getpass             pyflakes            win32clipboard\n",
      "_warnings           gettext             pygments            win32com\n",
      "_weakref            gevent              pylab               win32con\n",
      "_weakrefset         glob                pylint              win32console\n",
      "_win32sysloader     glob2               pyodbc              win32cred\n",
      "_winapi             greenlet            pyparsing           win32crypt\n",
      "_winxptheme         gzip                pyreadline          win32cryptcon\n",
      "_yaml               h5py                pyrsistent          win32event\n",
      "abc                 hashlib             pytest              win32evtlog\n",
      "adodbapi            heapdict            pytest_arraydiff    win32evtlogutil\n",
      "afxres              heapq               pytest_doctestplus  win32file\n",
      "aifc                hmac                pytest_openfiles    win32gui\n",
      "alabaster           html                pytest_remotedata   win32gui_struct\n",
      "anaconda_navigator  html5lib            pythoncom           win32help\n",
      "anaconda_project    http                pytz                win32inet\n",
      "antigravity         idlelib             pywin               win32inetcon\n",
      "argparse            idna                pywin32_testutil    win32job\n",
      "array               imageio             pywintypes          win32lz\n",
      "asn1crypto          imagesize           pywt                win32net\n",
      "ast                 imaplib             pyximport           win32netcon\n",
      "astroid             imghdr              qtawesome           win32pdh\n",
      "astropy             imp                 qtconsole           win32pdhquery\n",
      "asynchat            importlib           qtpy                win32pdhutil\n",
      "asyncio             importlib_metadata  queue               win32pipe\n",
      "asyncore            inspect             quopri              win32print\n",
      "atexit              io                  random              win32process\n",
      "atomicwrites        ipaddress           rasutil             win32profile\n",
      "attr                ipykernel           re                  win32ras\n",
      "audioop             ipykernel_launcher  readline            win32rcparser\n",
      "autoreload          ipython_genutils    regcheck            win32security\n",
      "babel               ipywidgets          regutil             win32service\n",
      "backcall            isapi               reprlib             win32serviceutil\n",
      "backports           isort               requests            win32timezone\n",
      "base64              isympy              rlcompleter         win32trace\n",
      "bdb                 itertools           rmagic              win32traceutil\n",
      "binascii            itsdangerous        rope                win32transaction\n",
      "binhex              jdcal               ruamel_yaml         win32ts\n",
      "binstar_client      jedi                run                 win32ui\n",
      "bisect              jinja2              runpy               win32uiole\n",
      "bitarray            json                sched               win32verstamp\n",
      "bkcharts            jsonschema          scipy               win32wnet\n",
      "bleach              jupyter             scripts             win_inet_pton\n",
      "bokeh               jupyter_client      seaborn             win_unicode_console\n",
      "boto                jupyter_console     secrets             wincertstore\n",
      "bottleneck          jupyter_core        select              winerror\n",
      "brain_argparse      jupyterlab          selectors           winioctlcon\n",
      "brain_attrs         jupyterlab_server   send2trash          winnt\n",
      "brain_builtin_inference keyring             servicemanager      winperf\n",
      "brain_collections   keyword             setuptools          winpty\n",
      "brain_curses        kiwisolver          shelve              winreg\n",
      "brain_dateutil      lazy_object_proxy   shlex               winsound\n",
      "brain_fstrings      lib2to3             shutil              winxpgui\n",
      "brain_functools     libarchive          signal              winxptheme\n",
      "brain_gi            libfuturize         simplegeneric       wrapt\n",
      "brain_hashlib       libpasteurize       singledispatch      wsgiref\n",
      "brain_http          lief                singledispatch_helpers xdrlib\n",
      "brain_io            linecache           sip                 xlrd\n",
      "brain_mechanize     llvmlite            sipconfig           xlsxwriter\n",
      "brain_multiprocessing locale              sipdistutils        xlwings\n",
      "brain_namedtuple_enum locket              site                xlwt\n",
      "brain_nose          logging             six                 xml\n",
      "brain_numpy         lxml                skimage             xmlrpc\n",
      "brain_pkg_resources lzma                sklearn             xxsubtype\n",
      "brain_pytest        macpath             smtpd               yaml\n",
      "brain_qt            mailbox             smtplib             zict\n",
      "brain_random        mailcap             sndhdr              zipapp\n",
      "brain_re            markupsafe          snowballstemmer     zipfile\n",
      "brain_six           marshal             socket              zipimport\n",
      "brain_ssl           math                socketserver        zipp\n",
      "brain_subprocess    matplotlib          socks               zlib\n",
      "brain_threading     mccabe              sockshandler        zmq\n",
      "brain_typing        menuinst            sortedcollections   \n",
      "brain_uuid          mimetypes           sortedcontainers    \n",
      "bs4                 mistune             soupsieve           \n",
      "\n",
      "Enter any module name to get more help.  Or, type \"modules spam\" to search\n",
      "for modules whose name or summary contain the string \"spam\".\n",
      "\n",
      "DEBUG:matplotlib.pyplot:Loaded backend module://ipykernel.pylab.backend_inline version unknown.\n"
     ]
    }
   ],
   "source": [
    "help(\"modules\")"
   ]
  },
  {
   "cell_type": "code",
   "execution_count": 12,
   "metadata": {},
   "outputs": [
    {
     "data": {
      "text/plain": [
       "11.045361017187261"
      ]
     },
     "execution_count": 12,
     "metadata": {},
     "output_type": "execute_result"
    }
   ],
   "source": [
    "import math \n",
    "math.sqrt(122)"
   ]
  },
  {
   "cell_type": "code",
   "execution_count": 18,
   "metadata": {},
   "outputs": [],
   "source": [
    "# example program for time and webbrowser modules\n",
    "import webbrowser\n",
    "import time\n",
    "fav_sites = [\"www.youtube.com\",\"http://engineering.apssdc.in/\"]\n",
    "for url in fav_sites:\n",
    "    webbrowser.open(url)\n",
    "    time.sleep(5)"
   ]
  },
  {
   "cell_type": "code",
   "execution_count": 19,
   "metadata": {},
   "outputs": [
    {
     "data": {
      "text/plain": [
       "['__doc__',\n",
       " '__loader__',\n",
       " '__name__',\n",
       " '__package__',\n",
       " '__spec__',\n",
       " 'acos',\n",
       " 'acosh',\n",
       " 'asin',\n",
       " 'asinh',\n",
       " 'atan',\n",
       " 'atan2',\n",
       " 'atanh',\n",
       " 'ceil',\n",
       " 'copysign',\n",
       " 'cos',\n",
       " 'cosh',\n",
       " 'degrees',\n",
       " 'e',\n",
       " 'erf',\n",
       " 'erfc',\n",
       " 'exp',\n",
       " 'expm1',\n",
       " 'fabs',\n",
       " 'factorial',\n",
       " 'floor',\n",
       " 'fmod',\n",
       " 'frexp',\n",
       " 'fsum',\n",
       " 'gamma',\n",
       " 'gcd',\n",
       " 'hypot',\n",
       " 'inf',\n",
       " 'isclose',\n",
       " 'isfinite',\n",
       " 'isinf',\n",
       " 'isnan',\n",
       " 'ldexp',\n",
       " 'lgamma',\n",
       " 'log',\n",
       " 'log10',\n",
       " 'log1p',\n",
       " 'log2',\n",
       " 'modf',\n",
       " 'nan',\n",
       " 'pi',\n",
       " 'pow',\n",
       " 'radians',\n",
       " 'remainder',\n",
       " 'sin',\n",
       " 'sinh',\n",
       " 'sqrt',\n",
       " 'tan',\n",
       " 'tanh',\n",
       " 'tau',\n",
       " 'trunc']"
      ]
     },
     "execution_count": 19,
     "metadata": {},
     "output_type": "execute_result"
    }
   ],
   "source": [
    "dir(math)"
   ]
  },
  {
   "cell_type": "code",
   "execution_count": 14,
   "metadata": {},
   "outputs": [
    {
     "name": "stdout",
     "output_type": "stream",
     "text": [
      "hello\\n\n"
     ]
    }
   ],
   "source": [
    "import re\n",
    "s = r'hello\\n'\n",
    "print(s)"
   ]
  },
  {
   "cell_type": "code",
   "execution_count": 15,
   "metadata": {},
   "outputs": [
    {
     "data": {
      "text/plain": [
       "'hello\\\\n'"
      ]
     },
     "execution_count": 15,
     "metadata": {},
     "output_type": "execute_result"
    }
   ],
   "source": [
    "s"
   ]
  },
  {
   "cell_type": "code",
   "execution_count": 17,
   "metadata": {},
   "outputs": [
    {
     "name": "stdout",
     "output_type": "stream",
     "text": [
      "hello\n",
      "\n"
     ]
    },
    {
     "data": {
      "text/plain": [
       "'hello\\n'"
      ]
     },
     "execution_count": 17,
     "metadata": {},
     "output_type": "execute_result"
    }
   ],
   "source": [
    "s = 'hello\\n'\n",
    "print(s)\n",
    "s"
   ]
  },
  {
   "cell_type": "markdown",
   "metadata": {},
   "source": [
    "# Regular Expression"
   ]
  },
  {
   "cell_type": "code",
   "execution_count": 18,
   "metadata": {},
   "outputs": [],
   "source": [
    "import re"
   ]
  },
  {
   "cell_type": "code",
   "execution_count": 19,
   "metadata": {},
   "outputs": [
    {
     "data": {
      "text/plain": [
       "['A',\n",
       " 'ASCII',\n",
       " 'DEBUG',\n",
       " 'DOTALL',\n",
       " 'I',\n",
       " 'IGNORECASE',\n",
       " 'L',\n",
       " 'LOCALE',\n",
       " 'M',\n",
       " 'MULTILINE',\n",
       " 'Match',\n",
       " 'Pattern',\n",
       " 'RegexFlag',\n",
       " 'S',\n",
       " 'Scanner',\n",
       " 'T',\n",
       " 'TEMPLATE',\n",
       " 'U',\n",
       " 'UNICODE',\n",
       " 'VERBOSE',\n",
       " 'X',\n",
       " '_MAXCACHE',\n",
       " '__all__',\n",
       " '__builtins__',\n",
       " '__cached__',\n",
       " '__doc__',\n",
       " '__file__',\n",
       " '__loader__',\n",
       " '__name__',\n",
       " '__package__',\n",
       " '__spec__',\n",
       " '__version__',\n",
       " '_cache',\n",
       " '_compile',\n",
       " '_compile_repl',\n",
       " '_expand',\n",
       " '_locale',\n",
       " '_pickle',\n",
       " '_special_chars_map',\n",
       " '_subx',\n",
       " 'compile',\n",
       " 'copyreg',\n",
       " 'enum',\n",
       " 'error',\n",
       " 'escape',\n",
       " 'findall',\n",
       " 'finditer',\n",
       " 'fullmatch',\n",
       " 'functools',\n",
       " 'match',\n",
       " 'purge',\n",
       " 'search',\n",
       " 'split',\n",
       " 'sre_compile',\n",
       " 'sre_parse',\n",
       " 'sub',\n",
       " 'subn',\n",
       " 'template']"
      ]
     },
     "execution_count": 19,
     "metadata": {},
     "output_type": "execute_result"
    }
   ],
   "source": [
    "dir(re)"
   ]
  },
  {
   "cell_type": "code",
   "execution_count": 20,
   "metadata": {},
   "outputs": [
    {
     "name": "stdout",
     "output_type": "stream",
     "text": [
      "Help on function sub in module re:\n",
      "\n",
      "sub(pattern, repl, string, count=0, flags=0)\n",
      "    Return the string obtained by replacing the leftmost\n",
      "    non-overlapping occurrences of the pattern in string by the\n",
      "    replacement repl.  repl can be either a string or a callable;\n",
      "    if a string, backslash escapes in it are processed.  If it is\n",
      "    a callable, it's passed the Match object and must return\n",
      "    a replacement string to be used.\n",
      "\n"
     ]
    }
   ],
   "source": [
    "help(re.sub)"
   ]
  },
  {
   "cell_type": "code",
   "execution_count": 25,
   "metadata": {},
   "outputs": [
    {
     "data": {
      "text/plain": [
       "<re.Match object; span=(0, 1), match='a'>"
      ]
     },
     "execution_count": 25,
     "metadata": {},
     "output_type": "execute_result"
    }
   ],
   "source": [
    "# re.match(pattern,text)\n",
    "re.match('a',\"apple\")"
   ]
  },
  {
   "cell_type": "code",
   "execution_count": 24,
   "metadata": {},
   "outputs": [
    {
     "name": "stdout",
     "output_type": "stream",
     "text": [
      "None\n"
     ]
    }
   ],
   "source": [
    "print(re.match(\"a\",'hai'))"
   ]
  },
  {
   "cell_type": "code",
   "execution_count": 30,
   "metadata": {},
   "outputs": [
    {
     "data": {
      "text/plain": [
       "<re.Match object; span=(1, 2), match='a'>"
      ]
     },
     "execution_count": 30,
     "metadata": {},
     "output_type": "execute_result"
    }
   ],
   "source": [
    "re.search('a','hai')"
   ]
  },
  {
   "cell_type": "code",
   "execution_count": 31,
   "metadata": {},
   "outputs": [
    {
     "data": {
      "text/plain": [
       "['a']"
      ]
     },
     "execution_count": 31,
     "metadata": {},
     "output_type": "execute_result"
    }
   ],
   "source": [
    "re.findall('a','hai')"
   ]
  },
  {
   "cell_type": "code",
   "execution_count": 34,
   "metadata": {},
   "outputs": [
    {
     "data": {
      "text/plain": [
       "['a', 'i', 'e', 'o', 'o', 'a', 'e', 'o', 'u']"
      ]
     },
     "execution_count": 34,
     "metadata": {},
     "output_type": "execute_result"
    }
   ],
   "source": [
    "re.findall('[aeiou]','hai hello how are you')"
   ]
  },
  {
   "cell_type": "code",
   "execution_count": 36,
   "metadata": {},
   "outputs": [
    {
     "data": {
      "text/plain": [
       "<re.Match object; span=(1, 2), match='a'>"
      ]
     },
     "execution_count": 36,
     "metadata": {},
     "output_type": "execute_result"
    }
   ],
   "source": [
    "re.search('[abcde]','hai hello how are you')"
   ]
  },
  {
   "cell_type": "code",
   "execution_count": 37,
   "metadata": {},
   "outputs": [
    {
     "data": {
      "text/plain": [
       "<re.Match object; span=(1, 2), match='a'>"
      ]
     },
     "execution_count": 37,
     "metadata": {},
     "output_type": "execute_result"
    }
   ],
   "source": [
    "re.search('[a-e]','hai hello how are you')"
   ]
  },
  {
   "cell_type": "code",
   "execution_count": 38,
   "metadata": {},
   "outputs": [
    {
     "data": {
      "text/plain": [
       "['h', 'a', 'i', 'h', 'e', 'l', 'l', 'h', 'a', 'e']"
      ]
     },
     "execution_count": 38,
     "metadata": {},
     "output_type": "execute_result"
    }
   ],
   "source": [
    "re.findall('[a-m]','hai hello how are you')"
   ]
  },
  {
   "cell_type": "code",
   "execution_count": 41,
   "metadata": {},
   "outputs": [
    {
     "data": {
      "text/plain": [
       "['1', '3', '0', '5', '0', '4', '0', '7']"
      ]
     },
     "execution_count": 41,
     "metadata": {},
     "output_type": "execute_result"
    }
   ],
   "source": [
    "rollno = \"13b05a0407\"\n",
    "re.findall('[0-9]',rollno)"
   ]
  },
  {
   "cell_type": "code",
   "execution_count": 43,
   "metadata": {},
   "outputs": [
    {
     "name": "stdout",
     "output_type": "stream",
     "text": [
      "Brix\n",
      "Chichi\n",
      "krish\n"
     ]
    }
   ],
   "source": [
    "def findpattern(pattern,names):\n",
    "    for name in names:\n",
    "        if re.search(pattern,name):\n",
    "            print(name)\n",
    "names = \"Apollo Brix Chichi krish\".split()\n",
    "pattern = 'i'\n",
    "findpattern(pattern,names)"
   ]
  },
  {
   "cell_type": "code",
   "execution_count": 45,
   "metadata": {},
   "outputs": [],
   "source": [
    "re.search('^[6-9][0-9]{9}','2780233857')"
   ]
  },
  {
   "cell_type": "code",
   "execution_count": null,
   "metadata": {},
   "outputs": [],
   "source": []
  }
 ],
 "metadata": {
  "kernelspec": {
   "display_name": "Python 3",
   "language": "python",
   "name": "python3"
  },
  "language_info": {
   "codemirror_mode": {
    "name": "ipython",
    "version": 3
   },
   "file_extension": ".py",
   "mimetype": "text/x-python",
   "name": "python",
   "nbconvert_exporter": "python",
   "pygments_lexer": "ipython3",
   "version": "3.7.3"
  }
 },
 "nbformat": 4,
 "nbformat_minor": 2
}
